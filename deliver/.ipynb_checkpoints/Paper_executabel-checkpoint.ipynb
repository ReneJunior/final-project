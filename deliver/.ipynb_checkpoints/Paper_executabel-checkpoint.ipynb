{
 "cells": [
  {
   "cell_type": "markdown",
   "metadata": {},
   "source": [
    "# Newton's Complete Method\n",
    "\n",
    "The system tests mentioned above will start. Initially, the data created using the previous code and the system data, found in [IEEE14](https://labs.ece.uw.edu/pstca/pf14/pg_tca14bus.htm), will be used.\n",
    "\n",
    "We started the process with the initialization of the libraries"
   ]
  },
  {
   "cell_type": "code",
   "execution_count": 13,
   "metadata": {},
   "outputs": [],
   "source": [
    "import math\n",
    "import numpy as np\n",
    "from numpy.linalg import inv\n",
    "import time\n",
    "import matplotlib.pyplot as plt"
   ]
  },
  {
   "cell_type": "markdown",
   "metadata": {},
   "source": [
    "Database identification and remove unnecessary lines"
   ]
  },
  {
   "cell_type": "code",
   "execution_count": 14,
   "metadata": {},
   "outputs": [],
   "source": [
    "branch_txt = '../Data/System_IEEE_14bus_branch.txt'    \n",
    "node_txt = '../Data/System_IEEE_14bus_node.txt'    \n",
    "node2_txt = '../Data/Data_Node.txt' \n",
    "\n",
    "data_branches = np.loadtxt(branch_txt, skiprows = 2)\n",
    "node_data = np.loadtxt(node_txt, skiprows = 3)\n",
    "node2_data = np.loadtxt(node2_txt, skiprows = 1)"
   ]
  },
  {
   "cell_type": "markdown",
   "metadata": {},
   "source": [
    "In this part of the code the database data is separated into parameters, for the tests an apparent power of $S^{base}=100 MVA$  was used and an error factor $\\zeta = 10^{-5}$"
   ]
  },
  {
   "cell_type": "code",
   "execution_count": 15,
   "metadata": {},
   "outputs": [],
   "source": [
    "S_base = 100                                  \n",
    "zeta = 10**-5         \n",
    "\n",
    "start_time = time.time()               \n",
    "\n",
    "if np.shape(data_branches) == (7,):\n",
    "    data_branches = data_branches.reshape((1, 7))\n",
    "\n",
    "TO =    data_branches[:,0]      \n",
    "FROM =  data_branches[:,1]      \n",
    "r =     data_branches[:,2]      \n",
    "x =     data_branches[:,3]      \n",
    "bsh =   data_branches[:,4]/2      \n",
    "a =     data_branches[:,5]      \n",
    "phi =   data_branches[:,6]\n",
    "\n",
    "NN = max(node_data[:,0])      \n",
    "NN = int(NN)\n",
    "\n",
    "bus = node_data[:,0]          \n",
    "Type = node_data[:,1]   \n",
    "\n",
    "V = node_data[:,2]            \n",
    "theta = node_data[:,3]\n",
    "\n",
    "P_G = node_data[:,4]/S_base    \n",
    "Q_G = node_data[:,5]/S_base    \n",
    "B_shunt = node_data[:,6]/S_base \n",
    "\n",
    "P_C = node2_data[:,1]/S_base    \n",
    "Q_C = node2_data[:,2]/S_base    \n",
    "\n",
    "P_nom = P_G - P_C               \n",
    "Q_nom = Q_G - Q_C    \n",
    "\n",
    "NN = int(max(max(TO),max(FROM)))    \n",
    "NB = len(TO)             "
   ]
  },
  {
   "cell_type": "markdown",
   "metadata": {},
   "source": [
    "Calculation of line parameters, such as admittance, shunting capacitors and calculation of matrix G and B."
   ]
  },
  {
   "cell_type": "code",
   "execution_count": 16,
   "metadata": {},
   "outputs": [],
   "source": [
    "Y = np.zeros([NN,NN], dtype=complex)\n",
    "tii = np.zeros([NB])\n",
    "tjj = np.zeros([NB])\n",
    "tij = np.zeros([NB])\n",
    "\n",
    "for b in range(NN):  \n",
    "    Y[b][b] = B_shunt[b] *1j;\n",
    "\n",
    "for b in range(NB):\n",
    "    i = int(TO[b])-1\n",
    "    j = int(FROM[b])-1   \n",
    "    \n",
    "    ykm = 1/(r[b]+x[b]*1j)\n",
    " \n",
    "    tii[b] = 1/(a[b]*a[b])\n",
    "    tjj[b] = 1\n",
    "    tij[b] = 1/ a[b]\n",
    "\n",
    "    Y[i][i] = Y[i][i] + tii[b]*ykm+ 1j*bsh[b]\n",
    "    Y[j][j] = Y[j][j]+ tjj[b]*ykm+ 1j*bsh[b]\n",
    "    \n",
    "\n",
    "    Y[i][j] = Y[i][j] - tij[b]*ykm\n",
    "    Y[j][i] = Y[j][i] - tij[b]*ykm\n",
    "\n",
    "G = np.real(Y)                \n",
    "B = np.imag(Y)              "
   ]
  },
  {
   "cell_type": "markdown",
   "metadata": {},
   "source": [
    "The iterative process is started"
   ]
  },
  {
   "cell_type": "code",
   "execution_count": 17,
   "metadata": {},
   "outputs": [],
   "source": [
    "itera = 0 \n",
    "maxDP = 10**5\n",
    "maxDQ = 10**5\n",
    "\n",
    "mismP = np.array([])\n",
    "mismQ = np.array([])\n",
    "\n",
    "while (abs(maxDP) > zeta or abs(maxDQ) > zeta):    \n",
    "\n",
    "    P_Calc = np.zeros_like(P_nom)\n",
    "    Q_Calc = np.zeros_like(Q_nom)\n",
    "    for i in range(NN):\n",
    "        P_Calc[i] = G[i][i] * V[i] * V[i]\n",
    "        Q_Calc[i] =-B[i][i] * V[i] * V[i]\n",
    "    \n",
    "    for w in range(NB):    \n",
    "        i = int(TO[w])-1\n",
    "        j = int(FROM[w])-1        \n",
    "    \n",
    "        ykm = 1/(r[w]+x[w]*1j)\n",
    "    \n",
    "        g = np.real(ykm) * tij[w]\n",
    "        b = np.imag(ykm) * tij[w]\n",
    "    \n",
    "        ab = theta[i]-theta[j]+ phi[w]    \n",
    "\n",
    "        P_Calc[i] = P_Calc[i] + V[i] * V[j] * ( - g * math.cos(ab) - b * math.sin(ab))\n",
    "        P_Calc[j] = P_Calc[j] + V[i] * V[j] * ( - g * math.cos(ab) + b * math.sin(ab))\n",
    "        \n",
    "        Q_Calc[i] = Q_Calc[i] + V[i] * V[j] * ( - g * math.sin(ab) + b * math.cos(ab))\n",
    "        Q_Calc[j] = Q_Calc[j] - V[i] * V[j] * ( - g * math.sin(ab) - b * math.cos(ab))\n",
    "\n",
    "    DP = np.zeros_like(P_nom)    \n",
    "    DQ = np.zeros_like(Q_nom)\n",
    "    \n",
    "    maxDP = 0\n",
    "    maxDQ = 0    \n",
    "    \n",
    "    for i in range(NN):        \n",
    "        if Type[i]!= 3:\n",
    "            DP[i] = P_nom[i] - P_Calc[i]\n",
    "            \n",
    "            if abs(DP[i]) > abs(maxDP):\n",
    "                maxDP = DP[i]\n",
    "                \n",
    "        if Type[i]<= 1:\n",
    "            DQ[i] = Q_nom[i] - Q_Calc[i]\n",
    "            \n",
    "            if abs(DQ[i]) > abs(maxDQ):\n",
    "                maxDQ = DQ[i]    \n",
    "\n",
    "    mismQ = np.append(mismQ, maxDQ)\n",
    "    mismP = np.append(mismP, maxDP)\n",
    "\n",
    "    DS = np.r_[DP,DQ]    \n",
    "    \n",
    "    H = np.zeros((NN, NN))\n",
    "    N = np.zeros((NN, NN))\n",
    "    M = np.zeros((NN, NN))\n",
    "    L = np.zeros((NN, NN))\n",
    "    \n",
    "    for i in range(NN):\n",
    "        \n",
    "        H[i][i] =-Q_Calc[i] - V[i]**2 * B[i][i]\n",
    "        if Type[i] == 3:\n",
    "            H[i][i] = 10**10     \n",
    "        N[i][i] = P_Calc[i] + V[i] * G[i][i]\n",
    "        M[i][i] = P_Calc[i] - V[i]* V[i] * G[i][i]\n",
    "        L[i][i] = Q_Calc[i] - V[i] * B[i][i]        \n",
    "        if Type[i] >= 2:\n",
    "            L[i][i] = 10**10\n",
    "    \n",
    "    for w in range(NB):    \n",
    "        i = int(TO[w])-1\n",
    "        j = int(FROM[w])-1        \n",
    "        \n",
    "        ab = theta[i]-theta[j]-(phi[w]*math.pi/180)\n",
    "        \n",
    "        H[i][j] = V[i] * V[j] * ( G[i][j] * math.sin(ab) - B[i][j] * math.cos(ab))\n",
    "        H[j][i] = V[i] * V[j] * (-G[i][j] * math.sin(ab) - B[i][j] * math.cos(ab))\n",
    "    \n",
    "        N[i][j] = V[i] * (G[i][j] * math.cos(ab) + B[i][j] * math.sin(ab))\n",
    "        N[j][i] = V[j] * (G[i][j] * math.cos(ab) - B[i][j] * math.sin(ab))\n",
    "        \n",
    "        M[i][j] =-V[i] * V[j] * (G[i][j] * math.cos(ab) + B[i][j] * math.sin(ab))\n",
    "        M[j][i] =-V[i] * V[j] * (G[i][j] * math.cos(ab) - B[i][j] * math.sin(ab))\n",
    "    \n",
    "        L[i][j] = V[i] * (G[i][j] * math.sin(ab) - B[i][j] * math.cos(ab))\n",
    "        L[j][i] = V[j] * (G[i][j] * math.sin(ab) - B[i][j] * math.cos(ab))    \n",
    "    \n",
    "    J1 = np.hstack((H, N))\n",
    "    J2 = np.hstack((M, L))\n",
    "    J = np.linalg.inv(np.vstack((J1, J2)))\n",
    "\n",
    "    DV = np.dot(J,DS)\n",
    "    \n",
    "    d_theta = DV[:NN]\n",
    "    dV = DV[NN:]\n",
    "\n",
    "    theta = d_theta + theta        \n",
    "    V = dV + V    \n",
    "\n",
    "    itera += 1\n",
    "    if itera >= 200:\n",
    "        print(\"Maximum number of iterations reached.\")\n",
    "        break    \n",
    "\n",
    "total_time = time.time() - start_time"
   ]
  },
  {
   "cell_type": "markdown",
   "metadata": {},
   "source": [
    "Graph of power mismatches, along the iterative process"
   ]
  },
  {
   "cell_type": "code",
   "execution_count": 18,
   "metadata": {},
   "outputs": [
    {
     "data": {
      "image/png": "[encoded data removed]",
      "text/plain": [
       "<Figure size 432x288 with 1 Axes>"
      ]
     },
     "metadata": {
      "needs_background": "light"
     },
     "output_type": "display_data"
    }
   ],
   "source": [
    "x = range(itera)\n",
    "y1= abs(mismQ)\n",
    "y2= abs(mismP)\n",
    "plt.ylabel('Power mismatches')\n",
    "plt.xlabel('Iterations')\n",
    "\n",
    "plt.ylim(ymax = 1, ymin = 0)\n",
    "plt.xlim(xmax = itera, xmin = 0)\n",
    "plt.plot(x, y1, y2)\n",
    "plt.show()"
   ]
  },
  {
   "cell_type": "markdown",
   "metadata": {},
   "source": [
    "Graph of the voltage  profile in each of the bars"
   ]
  },
  {
   "cell_type": "code",
   "execution_count": 19,
   "metadata": {},
   "outputs": [
    {
     "data": {
      "image/png": "[encoded data removed]",
      "text/plain": [
       "<Figure size 432x288 with 1 Axes>"
      ]
     },
     "metadata": {
      "needs_background": "light"
     },
     "output_type": "display_data"
    }
   ],
   "source": [
    "x = range(NN)\n",
    "y= abs(V)\n",
    "plt.ylabel('Magnitude of tension [p.u]')\n",
    "plt.xlabel('Node')\n",
    "\n",
    "plt.ylim(ymax = 1.2, ymin = 0)\n",
    "plt.xlim(xmax = 13, xmin = 0)\n",
    "plt.plot(x, y)\n",
    "plt.show()"
   ]
  },
  {
   "cell_type": "markdown",
   "metadata": {},
   "source": [
    "# Newton Fast Decoupled\n",
    "In the second part of the project, the power flow will be calculated using the Newton Fast Decoupled methodology. The process will start from the creation and collection of the database, for the parameters."
   ]
  },
  {
   "cell_type": "code",
   "execution_count": 20,
   "metadata": {},
   "outputs": [],
   "source": [
    "S_base = 100                                  \n",
    "zeta = 10**-5         \n",
    "\n",
    "start_time = time.time()               \n",
    "\n",
    "if np.shape(data_branches) == (7,):\n",
    "    data_branches = data_branches.reshape((1, 7))\n",
    "\n",
    "TO =    data_branches[:,0]      \n",
    "FROM =  data_branches[:,1]      \n",
    "r =     data_branches[:,2]      \n",
    "x =     data_branches[:,3]      \n",
    "bsh =   data_branches[:,4]/2      \n",
    "a =     data_branches[:,5]      \n",
    "phi =   data_branches[:,6]\n",
    "\n",
    "NN = max(node_data[:,0])      \n",
    "NN = int(NN)\n",
    "\n",
    "bus = node_data[:,0]          \n",
    "Type = node_data[:,1]   \n",
    "\n",
    "V = node_data[:,2]            \n",
    "theta = node_data[:,3]\n",
    "\n",
    "P_G = node_data[:,4]/S_base    \n",
    "Q_G = node_data[:,5]/S_base    \n",
    "B_shunt = node_data[:,6]/S_base \n",
    "\n",
    "P_C = node2_data[:,1]/S_base    \n",
    "Q_C = node2_data[:,2]/S_base    \n",
    "\n",
    "P_nom = P_G - P_C               \n",
    "Q_nom = Q_G - Q_C    \n",
    "\n",
    "NN = int(max(max(TO),max(FROM)))    \n",
    "NB = len(TO)       "
   ]
  },
  {
   "cell_type": "markdown",
   "metadata": {},
   "source": [
    "Performing the calculation of the line parameters, as in the previous method, but adding the matrices $ B ^{\\prime}$ and $ B^{\\prime\\prime} $."
   ]
  },
  {
   "cell_type": "code",
   "execution_count": 21,
   "metadata": {},
   "outputs": [],
   "source": [
    "Y = np.zeros([NN,NN], dtype=complex)\n",
    "tii = np.zeros([NB])\n",
    "tjj = np.zeros([NB])\n",
    "tij = np.zeros([NB])\n",
    "tij = np.zeros([NB])\n",
    "\n",
    "for b in range(NN):  \n",
    "    Y[b][b] = B_shunt[b] *1j;\n",
    "\n",
    "B_line = np.zeros([NN,NN])\n",
    "B_2line = np.zeros([NN,NN])\n",
    "\n",
    "for b in range(NB):\n",
    "    i = int(TO[b])-1\n",
    "    j = int(FROM[b])-1   \n",
    "    \n",
    "    ykm = (r[b]+x[b]*1j)**(-1)\n",
    " \n",
    "    tii[b] = (a[b]*a[b])**(-1)\n",
    "    tjj[b] = 1\n",
    "    tij[b] = a[b]**(-1)\n",
    "\n",
    "    Y[i][i] = Y[i][i] + tii[b]*ykm+ 1j*bsh[b]\n",
    "    Y[j][j] = Y[j][j]+ tjj[b]*ykm+ 1j*bsh[b]   \n",
    "\n",
    "    Y[i][j] = Y[i][j] - tij[b]*ykm\n",
    "    Y[j][i] = Y[j][i] - tij[b]*ykm\n",
    "    \n",
    "    B_line[i][i] = B_line[i][i] + 1/x[b]\n",
    "    B_line[j][j] = B_line[j][j] + 1/x[b]\n",
    "    \n",
    "    B_line[i][j] = -1/x[b]\n",
    "    B_line[j][i] = -1/x[b]\n",
    "    \n",
    "    B_2line[i][i] = - 1/x[b]\n",
    "    \n",
    "    B_2line[i][j] = -1/x[b]\n",
    "    B_2line[j][i] = -1/x[b]\n",
    "    \n",
    "    if Type[i] == 3 or Type[j] == 3:  \n",
    "        B_line[i][j] = 0\n",
    "        B_line[j][i] = 0\n",
    "        \n",
    "    if Type[i] ==3:\n",
    "        B_line[i][i] = 10**10    \n",
    "\n",
    "\n",
    "G = np.real(Y)               \n",
    "B = np.imag(Y)            \n",
    "  \n",
    "for i in range(NN):\n",
    "    for j in range(NN):\n",
    "        if Type[i] < 1 and Type[j] < 1:\n",
    "            B_2line[i][i] = -B[i][i]\n",
    "            B_2line[i][j] = -B[i][j]\n",
    "        if Type[i] > 1 or Type[j] > 1:\n",
    "            B_2line[i][i] = 0\n",
    "            B_2line[i][j] = 0\n",
    "            B_2line[j][i] = 0\n",
    "    if Type[i] > 1:\n",
    "        B_2line[i][i] = 10**10   "
   ]
  },
  {
   "cell_type": "markdown",
   "metadata": {},
   "source": [
    "Initiating the iterative process and reversing the matrices $ B ^{\\prime}$ and $ B^{\\prime\\prime} $."
   ]
  },
  {
   "cell_type": "code",
   "execution_count": 22,
   "metadata": {},
   "outputs": [],
   "source": [
    "B_line_inv= np.linalg.inv(B_line)\n",
    "B_2line_inv= np.linalg.inv(B_2line)\n",
    "\n",
    "p = 0\n",
    "q = 0\n",
    "KP = 0\n",
    "KQ = 0\n",
    "\n",
    "mismP = np.array([])\n",
    "mismQ = np.array([])\n",
    "\n",
    "while (p <= 200 or q <= 200):    \n",
    "\n",
    "    P_Calc = np.zeros_like(P_nom)\n",
    "\n",
    "    for i in range(NN):\n",
    "        P_Calc[i] = G[i][i] * V[i]**2\n",
    "    \n",
    "    for w in range(NB):    \n",
    "        i = int(TO[w])-1\n",
    "        j = int(FROM[w])-1        \n",
    "    \n",
    "        ykm = (r[w]+x[w]*1j)**(-1)\n",
    "        \n",
    "        g = np.real(ykm) * tij[w]\n",
    "        b = np.imag(ykm) * tij[w]\n",
    "    \n",
    "        ab = theta[i] - theta[j] + phi[w]    \n",
    "    \n",
    "        P_Calc[i] = P_Calc[i] + V[i] * V[j] * ( - g * math.cos(ab) - b * math.sin(ab))\n",
    "        P_Calc[j] = P_Calc[j] + V[i] * V[j] * ( - g * math.cos(ab) + b * math.sin(ab))      \n",
    "\n",
    "    DP = np.zeros_like(P_nom)    \n",
    "    \n",
    "    maxDP = 0   \n",
    "    \n",
    "    for i in range(NN):        \n",
    "        if Type[i]!= 3:\n",
    "            DP[i] = ((P_nom[i] - P_Calc[i])/V[i])            \n",
    "            if abs(DP[i]) > abs(maxDP):\n",
    "                maxDP = DP[i]  \n",
    "\n",
    "    mismP = np.append(mismP, maxDP)\n",
    "    \n",
    "    if abs(maxDP) > zeta:  \n",
    "        d_theta = np.dot(B_line_inv,DP)\n",
    "        theta = d_theta + theta          \n",
    "        KQ = 1\n",
    "        p += 1\n",
    "    else:\n",
    "        KP = 0            \n",
    "        if KQ == 0:\t\t\n",
    "            break\t\t\t\n",
    " \n",
    "    Q_Calc = np.zeros_like(Q_nom)\n",
    "    \n",
    "    for i in range(NN):\n",
    "        Q_Calc[i] = - B[i][i] * V[i]**2\n",
    "\t\n",
    "    for w in range(NB):    \n",
    "        i = int(TO[w])-1\n",
    "        j = int(FROM[w])-1        \n",
    "    \n",
    "        ykm = (r[w]+x[w]*1j)**(-1)\n",
    "        \n",
    "        g = np.real(ykm) * tij[w]\n",
    "        b = np.imag(ykm) * tij[w]\n",
    "    \n",
    "        ab = theta[i]-theta[j]+ phi[w]  \n",
    "\t\n",
    "        Q_Calc[i] = Q_Calc[i] + V[i] * V[j] * ( - g * math.sin(ab) + b * math.cos(ab))\n",
    "        Q_Calc[j] = Q_Calc[j] - V[i] * V[j] * ( - g * math.sin(ab) - b * math.cos(ab))\n",
    "    \n",
    "    DQ = np.zeros_like(Q_nom)\n",
    "    \n",
    "    maxDQ = 0    \n",
    "\n",
    "    for i in range(NN):          \n",
    "        if Type[i]<= 1:\n",
    "            DQ[i] = ((Q_nom[i] - Q_Calc[i])/V[i]) \n",
    "            \n",
    "            if abs(DQ[i]) > abs(maxDQ):\n",
    "                maxDQ = DQ[i] \n",
    "                \n",
    "    mismQ = np.append(mismQ, maxDQ)\n",
    "    \n",
    "    if abs(maxDQ) > zeta:    \n",
    "        dV = np.dot(B_2line_inv,DQ)\n",
    "        V = dV + V    \n",
    "        KP = 1\n",
    "        q += 1\n",
    "    else:\n",
    "        KQ = 0\n",
    "        if KP==0:\n",
    "            break\n",
    "total_time = time.time() - start_time"
   ]
  },
  {
   "cell_type": "markdown",
   "metadata": {},
   "source": [
    "Power mismatches graph"
   ]
  },
  {
   "cell_type": "code",
   "execution_count": null,
   "metadata": {},
   "outputs": [],
   "source": [
    "x = range(p)\n",
    "y1= abs(mismQ)\n",
    "y2= abs(mismP)\n",
    "plt.ylabel('Power mismatches')\n",
    "plt.xlabel('Iterations')\n",
    "\n",
    "plt.ylim(ymax = 1, ymin = 0)\n",
    "plt.xlim(xmax = p, xmin = 0)\n",
    "plt.plot(x, y1, y2)\n",
    "plt.show()"
   ]
  },
  {
   "cell_type": "markdown",
   "metadata": {},
   "source": [
    "Voltage profile in the system"
   ]
  },
  {
   "cell_type": "code",
   "execution_count": 25,
   "metadata": {},
   "outputs": [
    {
     "data": {
      "image/png": "[encoded data removed]",
      "text/plain": [
       "<Figure size 432x288 with 1 Axes>"
      ]
     },
     "metadata": {
      "needs_background": "light"
     },
     "output_type": "display_data"
    }
   ],
   "source": [
    "x = range(NN)\n",
    "y= abs(V)\n",
    "plt.ylabel('Magnitude of tension [p.u]')\n",
    "plt.xlabel('Node')\n",
    "\n",
    "plt.ylim(ymax = 1.2, ymin = 0)\n",
    "plt.xlim(xmax = 13, xmin = 0)\n",
    "plt.plot(x, y)\n",
    "plt.show()"
   ]
  }
 ],
 "metadata": {
  "kernelspec": {
   "display_name": "Python 3",
   "language": "python",
   "name": "python3"
  },
  "language_info": {
   "codemirror_mode": {
    "name": "ipython",
    "version": 3
   },
   "file_extension": ".py",
   "mimetype": "text/x-python",
   "name": "python",
   "nbconvert_exporter": "python",
   "pygments_lexer": "ipython3",
   "version": "3.6.8"
  }
 },
 "nbformat": 4,
 "nbformat_minor": 4
}
